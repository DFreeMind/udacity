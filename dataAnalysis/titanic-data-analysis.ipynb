{
 "cells": [
  {
   "cell_type": "markdown",
   "metadata": {},
   "source": [
    "# 泰坦尼克号数据分析\n",
    "**数据来源：** Udacity 提供\n",
    "\n",
    "**数组字段说明：**\n",
    "\n",
    "PassengerId乘客编号，\n",
    "\n",
    "Survived：乘客是否存活，\n",
    "\n",
    "Pclass：乘客所在的船舱等级，\n",
    "\n",
    "Name：乘客姓名，\n",
    "\n",
    "Sex：乘客性别，\n",
    "\n",
    "Age：乘客年龄，\n",
    "\n",
    "SibSp：乘客的兄弟姐妹和配偶数量，\n",
    "\n",
    "Parch：乘客的父母与子女数量，\n",
    "\n",
    "Ticket：票的编号，\n",
    "\n",
    "Fare：票价，\n",
    "\n",
    "Cabin：座位号，\n",
    "\n",
    "Embarked：乘客登船码头。 \n",
    "\n"
   ]
  },
  {
   "cell_type": "code",
   "execution_count": 24,
   "metadata": {
    "scrolled": true
   },
   "outputs": [
    {
     "name": "stdout",
     "output_type": "stream",
     "text": [
      "   PassengerId  Survived  Pclass  \\\n",
      "0            1         0       3   \n",
      "1            2         1       1   \n",
      "2            3         1       3   \n",
      "3            4         1       1   \n",
      "4            5         0       3   \n",
      "\n",
      "                                                Name     Sex   Age  SibSp  \\\n",
      "0                            Braund, Mr. Owen Harris    male  22.0      1   \n",
      "1  Cumings, Mrs. John Bradley (Florence Briggs Th...  female  38.0      1   \n",
      "2                             Heikkinen, Miss. Laina  female  26.0      0   \n",
      "3       Futrelle, Mrs. Jacques Heath (Lily May Peel)  female  35.0      1   \n",
      "4                           Allen, Mr. William Henry    male  35.0      0   \n",
      "\n",
      "   Parch            Ticket     Fare Cabin Embarked  \n",
      "0      0         A/5 21171   7.2500   NaN        S  \n",
      "1      0          PC 17599  71.2833   C85        C  \n",
      "2      0  STON/O2. 3101282   7.9250   NaN        S  \n",
      "3      0            113803  53.1000  C123        S  \n",
      "4      0            373450   8.0500   NaN        S  \n"
     ]
    }
   ],
   "source": [
    "import numpy as np\n",
    "import pandas as pd\n",
    "import matplotlib.pyplot as plt\n",
    "\n",
    "# 读取泰坦尼克数据\n",
    "passengers = pd.read_csv(\"titanic-data.csv\")\n",
    "print passengers.head()"
   ]
  },
  {
   "cell_type": "code",
   "execution_count": 5,
   "metadata": {},
   "outputs": [
    {
     "data": {
      "text/plain": [
       "0    549\n",
       "1    342\n",
       "Name: Survived, dtype: int64"
      ]
     },
     "execution_count": 5,
     "metadata": {},
     "output_type": "execute_result"
    }
   ],
   "source": [
    "# 生存与死亡的人数\n",
    "passengers[\"Survived\"].value_counts()"
   ]
  },
  {
   "cell_type": "code",
   "execution_count": 6,
   "metadata": {},
   "outputs": [
    {
     "data": {
      "text/plain": [
       "male      577\n",
       "female    314\n",
       "Name: Sex, dtype: int64"
      ]
     },
     "execution_count": 6,
     "metadata": {},
     "output_type": "execute_result"
    }
   ],
   "source": [
    "# 不同性别的人数\n",
    "passengers[\"Sex\"].value_counts()"
   ]
  },
  {
   "cell_type": "code",
   "execution_count": 51,
   "metadata": {},
   "outputs": [
    {
     "name": "stdout",
     "output_type": "stream",
     "text": [
      "Survived  Sex   \n",
      "0         female     81\n",
      "          male      468\n",
      "1         female    233\n",
      "          male      109\n",
      "dtype: int64\n"
     ]
    },
    {
     "data": {
      "text/plain": [
       "array([<matplotlib.axes._subplots.AxesSubplot object at 0x116cd3310>], dtype=object)"
      ]
     },
     "execution_count": 51,
     "metadata": {},
     "output_type": "execute_result"
    },
    {
     "data": {
      "image/png": "[encoded data removed]",
      "text/plain": [
       "<matplotlib.figure.Figure at 0x1168ce710>"
      ]
     },
     "metadata": {},
     "output_type": "display_data"
    }
   ],
   "source": [
    "# 生存与死亡人中男女人数\n",
    "survived_sex = passengers.groupby([\"Survived\", \"Sex\"]).size()\n",
    "print survived_sex\n",
    "survived_sex.plot(kind=\"pie\", subplots=True, autopct='%.2f',figsize=(8,8), fontsize=18)"
   ]
  },
  {
   "cell_type": "code",
   "execution_count": 56,
   "metadata": {},
   "outputs": [
    {
     "name": "stdout",
     "output_type": "stream",
     "text": [
      "Embarked  Survived\n",
      "C         0            75\n",
      "          1            93\n",
      "Q         0            47\n",
      "          1            30\n",
      "S         0           427\n",
      "          1           217\n",
      "dtype: int64\n",
      "Embarked  Survived  Sex   \n",
      "C         0         female      9\n",
      "                    male       66\n",
      "          1         female     64\n",
      "                    male       29\n",
      "Q         0         female      9\n",
      "                    male       38\n",
      "          1         female     27\n",
      "                    male        3\n",
      "S         0         female     63\n",
      "                    male      364\n",
      "          1         female    140\n",
      "                    male       77\n",
      "dtype: int64\n"
     ]
    },
    {
     "data": {
      "text/plain": [
       "array([<matplotlib.axes._subplots.AxesSubplot object at 0x11b3bf750>], dtype=object)"
      ]
     },
     "execution_count": 56,
     "metadata": {},
     "output_type": "execute_result"
    },
    {
     "data": {
      "image/png": "[encoded data removed]",
      "text/plain": [
       "<matplotlib.figure.Figure at 0x11b3c8dd0>"
      ]
     },
     "metadata": {},
     "output_type": "display_data"
    }
   ],
   "source": [
    "embarked_survived = passengers.groupby([\"Embarked\", \"Survived\"]).size()\n",
    "print embarked_survived\n",
    "embarked_survived_sex = passengers.groupby([\"Embarked\", \"Survived\", \"Sex\"]).size()\n",
    "print embarked_survived_sex\n",
    "embarked_survived.plot(kind=\"bar\", subplots=True, fontsize=18)"
   ]
  },
  {
   "cell_type": "code",
   "execution_count": null,
   "metadata": {},
   "outputs": [],
   "source": []
  },
  {
   "cell_type": "markdown",
   "metadata": {},
   "source": [
    "【参考】\n",
    "1、[]"
   ]
  }
 ],
 "metadata": {
  "kernelspec": {
   "display_name": "Python 2",
   "language": "python",
   "name": "python2"
  },
  "language_info": {
   "codemirror_mode": {
    "name": "ipython",
    "version": 2
   },
   "file_extension": ".py",
   "mimetype": "text/x-python",
   "name": "python",
   "nbconvert_exporter": "python",
   "pygments_lexer": "ipython2",
   "version": "2.7.14"
  }
 },
 "nbformat": 4,
 "nbformat_minor": 2
}
